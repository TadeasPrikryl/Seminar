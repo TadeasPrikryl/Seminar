{
 "cells": [
  {
   "cell_type": "code",
   "execution_count": 1,
   "id": "314ba388-a3d1-493a-bb42-fde551986baa",
   "metadata": {},
   "outputs": [
    {
     "name": "stdout",
     "output_type": "stream",
     "text": [
      "1/1 [==============================] - 0s 266ms/step\n",
      "Na obrázku je ještěrka\n"
     ]
    }
   ],
   "source": [
    "from tensorflow.keras.models import load_model\n",
    "import cv2\n",
    "import numpy as np\n",
    "import tensorflow as tf\n",
    "model = load_model('lizardsnake.h5')\n",
    "img = cv2.imread('image.jpg')\n",
    "resize = tf.image.resize(img, (256,256))\n",
    "y = model.predict(np.expand_dims(resize/255, 0))\n",
    "if y > 0.5: \n",
    "    print(f'Na obrázku je had')\n",
    "else:\n",
    "    print(f'Na obrázku je ještěrka')"
   ]
  }
 ],
 "metadata": {
  "kernelspec": {
   "display_name": "Python 3 (ipykernel)",
   "language": "python",
   "name": "python3"
  },
  "language_info": {
   "codemirror_mode": {
    "name": "ipython",
    "version": 3
   },
   "file_extension": ".py",
   "mimetype": "text/x-python",
   "name": "python",
   "nbconvert_exporter": "python",
   "pygments_lexer": "ipython3",
   "version": "3.11.5"
  }
 },
 "nbformat": 4,
 "nbformat_minor": 5
}
